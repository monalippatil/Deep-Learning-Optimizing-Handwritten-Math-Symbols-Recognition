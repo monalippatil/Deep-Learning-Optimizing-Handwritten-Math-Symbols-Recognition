{
 "cells": [
  {
   "cell_type": "markdown",
   "metadata": {},
   "source": [
    "# Deep Learning and CNN\n",
    "\n",
    "### Image Loading, Pre-processing and Splitting\n",
    "\n",
    "The following activities are performed as part of the Image Pre-processing task.\n",
    "\n",
    "1. Loading the Dataset\n",
    "    \n",
    "    1.1 Checking the folder names in the dataset\n",
    "\n",
    "    1.2 Reading the images name, their path and symbol name into the dataframe\n",
    "\n",
    "    1.3 Loading the images\n",
    "\n",
    "2. Visualising and Exploring the Images\n",
    "\n",
    "    2.1 Examining the images dimension\n",
    "\n",
    "    2.1 Inspecting individual images from the dataset along with their corresponding labels\n",
    "\n",
    "    2.2 Examining the total number of occurrences of each distinct math symbol images\n",
    "\n",
    "\n",
    "3. Pre-processing the Images\n",
    "\n",
    "    3.1 Transforming categorical labels into numerical with label encoding\n",
    "                        \n",
    "    3.2 Normalising the images\n",
    "\n",
    "    3.3 Splitting data into into training - 70% and testing - 30%\n",
    "\n",
    "    3.4 Saving the different datasets"
   ]
  },
  {
   "cell_type": "code",
   "execution_count": 31,
   "metadata": {},
   "outputs": [],
   "source": [
    "# Importing packages for processing\n",
    "import numpy as np\n",
    "import pandas as pd\n",
    "import os\n",
    "\n",
    "# Importing packages to load and display the images\n",
    "import cv2\n",
    "from PIL import Image\n",
    "\n",
    "# Importing package for splitting the dataset\n",
    "from sklearn.model_selection import train_test_split\n",
    "\n",
    "# Importing package for data disualisation\n",
    "import matplotlib.pyplot as plt\n",
    "%matplotlib inline"
   ]
  },
  {
   "cell_type": "markdown",
   "metadata": {},
   "source": [
    "### 1. Loading the Dataset"
   ]
  },
  {
   "cell_type": "markdown",
   "metadata": {},
   "source": [
    "#### 1.1 Checking the folder names in the dataset"
   ]
  },
  {
   "cell_type": "code",
   "execution_count": 32,
   "metadata": {},
   "outputs": [
    {
     "name": "stdout",
     "output_type": "stream",
     "text": [
      "The dataset consist of the mathematical symbol images present in its respective subdirectories names as below:\n",
      " ['pm', 'leq', '-', 'sqrt', 'sum', 'theta', 'alpha', 'tan', ')', '[']\n"
     ]
    }
   ],
   "source": [
    "# Storing the dataset path in a variable named 'dataset_path' \n",
    "# Note: Please change this to your current directory path where the dataset is downloaded\n",
    "dataset_path = '/Users/monalipatil/Monali/MDSI-Semester1/Deep Learning and Convolutional Neural Network/Assignment1/dataset_42028assg1_14370946'\n",
    "\n",
    "# Defining a function to get the names of subdirectories within the dataset path \n",
    "def get_subdirectories_names(dataset_path):\n",
    "    return [name for name in os.listdir(dataset_path)\n",
    "            if os.path.isdir(os.path.join(dataset_path, name))]\n",
    "\n",
    "# Displaying the names of subdirectories in the dataset\n",
    "dataset_subdirectories = get_subdirectories_names(dataset_path)\n",
    "print('The dataset consist of the mathematical symbol images present in its respective subdirectories names as below:\\n', dataset_subdirectories)"
   ]
  },
  {
   "cell_type": "markdown",
   "metadata": {},
   "source": [
    "#### 1.2 Reading the images name, their path and symbol name into the dataframe"
   ]
  },
  {
   "cell_type": "code",
   "execution_count": 33,
   "metadata": {},
   "outputs": [
    {
     "data": {
      "text/html": [
       "<div>\n",
       "<style scoped>\n",
       "    .dataframe tbody tr th:only-of-type {\n",
       "        vertical-align: middle;\n",
       "    }\n",
       "\n",
       "    .dataframe tbody tr th {\n",
       "        vertical-align: top;\n",
       "    }\n",
       "\n",
       "    .dataframe thead th {\n",
       "        text-align: right;\n",
       "    }\n",
       "</style>\n",
       "<table border=\"1\" class=\"dataframe\">\n",
       "  <thead>\n",
       "    <tr style=\"text-align: right;\">\n",
       "      <th></th>\n",
       "      <th>Image Name</th>\n",
       "      <th>ImagePath</th>\n",
       "      <th>Image Symbol Name</th>\n",
       "    </tr>\n",
       "  </thead>\n",
       "  <tbody>\n",
       "    <tr>\n",
       "      <th>4834</th>\n",
       "      <td>exp3223.jpg</td>\n",
       "      <td>/Users/monalipatil/Monali/MDSI-Semester1/Deep Learning and Convolutional Neural Network/Assignment1/dataset_42028assg1_14370946/[/exp3223.jpg</td>\n",
       "      <td>[</td>\n",
       "    </tr>\n",
       "    <tr>\n",
       "      <th>3402</th>\n",
       "      <td>exp13425.jpg</td>\n",
       "      <td>/Users/monalipatil/Monali/MDSI-Semester1/Deep Learning and Convolutional Neural Network/Assignment1/dataset_42028assg1_14370946/alpha/exp13425.jpg</td>\n",
       "      <td>alpha</td>\n",
       "    </tr>\n",
       "    <tr>\n",
       "      <th>4867</th>\n",
       "      <td>exp6946.jpg</td>\n",
       "      <td>/Users/monalipatil/Monali/MDSI-Semester1/Deep Learning and Convolutional Neural Network/Assignment1/dataset_42028assg1_14370946/[/exp6946.jpg</td>\n",
       "      <td>[</td>\n",
       "    </tr>\n",
       "    <tr>\n",
       "      <th>1453</th>\n",
       "      <td>exp8705.jpg</td>\n",
       "      <td>/Users/monalipatil/Monali/MDSI-Semester1/Deep Learning and Convolutional Neural Network/Assignment1/dataset_42028assg1_14370946/-/exp8705.jpg</td>\n",
       "      <td>-</td>\n",
       "    </tr>\n",
       "    <tr>\n",
       "      <th>1965</th>\n",
       "      <td>exp47700.jpg</td>\n",
       "      <td>/Users/monalipatil/Monali/MDSI-Semester1/Deep Learning and Convolutional Neural Network/Assignment1/dataset_42028assg1_14370946/sqrt/exp47700.jpg</td>\n",
       "      <td>sqrt</td>\n",
       "    </tr>\n",
       "  </tbody>\n",
       "</table>\n",
       "</div>"
      ],
      "text/plain": [
       "        Image Name  \\\n",
       "4834   exp3223.jpg   \n",
       "3402  exp13425.jpg   \n",
       "4867   exp6946.jpg   \n",
       "1453   exp8705.jpg   \n",
       "1965  exp47700.jpg   \n",
       "\n",
       "                                                                                                                                               ImagePath  \\\n",
       "4834       /Users/monalipatil/Monali/MDSI-Semester1/Deep Learning and Convolutional Neural Network/Assignment1/dataset_42028assg1_14370946/[/exp3223.jpg   \n",
       "3402  /Users/monalipatil/Monali/MDSI-Semester1/Deep Learning and Convolutional Neural Network/Assignment1/dataset_42028assg1_14370946/alpha/exp13425.jpg   \n",
       "4867       /Users/monalipatil/Monali/MDSI-Semester1/Deep Learning and Convolutional Neural Network/Assignment1/dataset_42028assg1_14370946/[/exp6946.jpg   \n",
       "1453       /Users/monalipatil/Monali/MDSI-Semester1/Deep Learning and Convolutional Neural Network/Assignment1/dataset_42028assg1_14370946/-/exp8705.jpg   \n",
       "1965   /Users/monalipatil/Monali/MDSI-Semester1/Deep Learning and Convolutional Neural Network/Assignment1/dataset_42028assg1_14370946/sqrt/exp47700.jpg   \n",
       "\n",
       "     Image Symbol Name  \n",
       "4834                 [  \n",
       "3402             alpha  \n",
       "4867                 [  \n",
       "1453                 -  \n",
       "1965              sqrt  "
      ]
     },
     "execution_count": 33,
     "metadata": {},
     "output_type": "execute_result"
    }
   ],
   "source": [
    "# Creating an empty list to store the Image names and paths\n",
    "image_list = []\n",
    "\n",
    "# Iterating through the Math Symbol Images dataset directory and its subdirectories\n",
    "for root, dirs, files in os.walk(dataset_path):\n",
    "    for file in files:\n",
    "\n",
    "        # Getting the file path\n",
    "        file_path = os.path.join(root, file)\n",
    "        folder_name = os.path.basename(root)\n",
    "\n",
    "        # Appending the file name and path to the list\n",
    "        image_list.append({'Image Name': file, 'ImagePath': file_path, 'Image Symbol Name': folder_name})\n",
    "\n",
    "# Creating a Pandas DataFrame to store the Math Symbol Image names, their paths and symbol names\n",
    "df_math_symbol_dataset = pd.DataFrame(image_list)\n",
    "df_math_symbol_dataset.sample(5)"
   ]
  },
  {
   "cell_type": "code",
   "execution_count": 34,
   "metadata": {},
   "outputs": [],
   "source": [
    "# Defining a function to add appropriate Symbol name for the Image folder representing with Symbol \n",
    "def add_foldername(row):\n",
    "    if row['Image Symbol Name'] == '-':\n",
    "        val = 'minus'\n",
    "    elif row['Image Symbol Name'] == ')':\n",
    "        val = 'closed_bracket'\n",
    "    elif row['Image Symbol Name'] == '[':\n",
    "        val = 'squared_bracket'\n",
    "    else:\n",
    "        val = row['Image Symbol Name']\n",
    "    return val"
   ]
  },
  {
   "cell_type": "code",
   "execution_count": 35,
   "metadata": {},
   "outputs": [],
   "source": [
    "# Seting the maximum column width to 400\n",
    "pd.set_option('max_colwidth', 400)\n",
    "\n",
    "# Calling the 'add_foldername' function to create a new column 'Label' representing appropriate Symbol name for the Image folder representing with Symbol\n",
    "df_math_symbol_dataset['Label'] = df_math_symbol_dataset.apply(add_foldername, axis=1)"
   ]
  },
  {
   "cell_type": "code",
   "execution_count": 36,
   "metadata": {},
   "outputs": [
    {
     "data": {
      "text/html": [
       "<div>\n",
       "<style scoped>\n",
       "    .dataframe tbody tr th:only-of-type {\n",
       "        vertical-align: middle;\n",
       "    }\n",
       "\n",
       "    .dataframe tbody tr th {\n",
       "        vertical-align: top;\n",
       "    }\n",
       "\n",
       "    .dataframe thead th {\n",
       "        text-align: right;\n",
       "    }\n",
       "</style>\n",
       "<table border=\"1\" class=\"dataframe\">\n",
       "  <thead>\n",
       "    <tr style=\"text-align: right;\">\n",
       "      <th></th>\n",
       "      <th>Image Name</th>\n",
       "      <th>ImagePath</th>\n",
       "      <th>Image Symbol Name</th>\n",
       "      <th>Label</th>\n",
       "    </tr>\n",
       "  </thead>\n",
       "  <tbody>\n",
       "    <tr>\n",
       "      <th>4579</th>\n",
       "      <td>[_85161.jpg</td>\n",
       "      <td>/Users/monalipatil/Monali/MDSI-Semester1/Deep Learning and Convolutional Neural Network/Assignment1/dataset_42028assg1_14370946/[/[_85161.jpg</td>\n",
       "      <td>[</td>\n",
       "      <td>squared_bracket</td>\n",
       "    </tr>\n",
       "    <tr>\n",
       "      <th>2068</th>\n",
       "      <td>exp79194.jpg</td>\n",
       "      <td>/Users/monalipatil/Monali/MDSI-Semester1/Deep Learning and Convolutional Neural Network/Assignment1/dataset_42028assg1_14370946/sum/exp79194.jpg</td>\n",
       "      <td>sum</td>\n",
       "      <td>sum</td>\n",
       "    </tr>\n",
       "    <tr>\n",
       "      <th>2335</th>\n",
       "      <td>sum_5544.jpg</td>\n",
       "      <td>/Users/monalipatil/Monali/MDSI-Semester1/Deep Learning and Convolutional Neural Network/Assignment1/dataset_42028assg1_14370946/sum/sum_5544.jpg</td>\n",
       "      <td>sum</td>\n",
       "      <td>sum</td>\n",
       "    </tr>\n",
       "    <tr>\n",
       "      <th>3288</th>\n",
       "      <td>exp67064.jpg</td>\n",
       "      <td>/Users/monalipatil/Monali/MDSI-Semester1/Deep Learning and Convolutional Neural Network/Assignment1/dataset_42028assg1_14370946/alpha/exp67064.jpg</td>\n",
       "      <td>alpha</td>\n",
       "      <td>alpha</td>\n",
       "    </tr>\n",
       "    <tr>\n",
       "      <th>3746</th>\n",
       "      <td>tan_21771.jpg</td>\n",
       "      <td>/Users/monalipatil/Monali/MDSI-Semester1/Deep Learning and Convolutional Neural Network/Assignment1/dataset_42028assg1_14370946/tan/tan_21771.jpg</td>\n",
       "      <td>tan</td>\n",
       "      <td>tan</td>\n",
       "    </tr>\n",
       "  </tbody>\n",
       "</table>\n",
       "</div>"
      ],
      "text/plain": [
       "         Image Name  \\\n",
       "4579    [_85161.jpg   \n",
       "2068   exp79194.jpg   \n",
       "2335   sum_5544.jpg   \n",
       "3288   exp67064.jpg   \n",
       "3746  tan_21771.jpg   \n",
       "\n",
       "                                                                                                                                               ImagePath  \\\n",
       "4579       /Users/monalipatil/Monali/MDSI-Semester1/Deep Learning and Convolutional Neural Network/Assignment1/dataset_42028assg1_14370946/[/[_85161.jpg   \n",
       "2068    /Users/monalipatil/Monali/MDSI-Semester1/Deep Learning and Convolutional Neural Network/Assignment1/dataset_42028assg1_14370946/sum/exp79194.jpg   \n",
       "2335    /Users/monalipatil/Monali/MDSI-Semester1/Deep Learning and Convolutional Neural Network/Assignment1/dataset_42028assg1_14370946/sum/sum_5544.jpg   \n",
       "3288  /Users/monalipatil/Monali/MDSI-Semester1/Deep Learning and Convolutional Neural Network/Assignment1/dataset_42028assg1_14370946/alpha/exp67064.jpg   \n",
       "3746   /Users/monalipatil/Monali/MDSI-Semester1/Deep Learning and Convolutional Neural Network/Assignment1/dataset_42028assg1_14370946/tan/tan_21771.jpg   \n",
       "\n",
       "     Image Symbol Name            Label  \n",
       "4579                 [  squared_bracket  \n",
       "2068               sum              sum  \n",
       "2335               sum              sum  \n",
       "3288             alpha            alpha  \n",
       "3746               tan              tan  "
      ]
     },
     "execution_count": 36,
     "metadata": {},
     "output_type": "execute_result"
    }
   ],
   "source": [
    "# Displaying the few random images\n",
    "df_math_symbol_dataset.sample(5)"
   ]
  },
  {
   "cell_type": "code",
   "execution_count": 37,
   "metadata": {},
   "outputs": [
    {
     "data": {
      "text/html": [
       "<div>\n",
       "<style scoped>\n",
       "    .dataframe tbody tr th:only-of-type {\n",
       "        vertical-align: middle;\n",
       "    }\n",
       "\n",
       "    .dataframe tbody tr th {\n",
       "        vertical-align: top;\n",
       "    }\n",
       "\n",
       "    .dataframe thead th {\n",
       "        text-align: right;\n",
       "    }\n",
       "</style>\n",
       "<table border=\"1\" class=\"dataframe\">\n",
       "  <thead>\n",
       "    <tr style=\"text-align: right;\">\n",
       "      <th></th>\n",
       "      <th>Image Name</th>\n",
       "      <th>ImagePath</th>\n",
       "      <th>Image Symbol Name</th>\n",
       "      <th>Label</th>\n",
       "    </tr>\n",
       "  </thead>\n",
       "  <tbody>\n",
       "    <tr>\n",
       "      <th>1</th>\n",
       "      <td>exp29202.jpg</td>\n",
       "      <td>/Users/monalipatil/Monali/MDSI-Semester1/Deep Learning and Convolutional Neural Network/Assignment1/dataset_42028assg1_14370946/pm/exp29202.jpg</td>\n",
       "      <td>pm</td>\n",
       "      <td>pm</td>\n",
       "    </tr>\n",
       "    <tr>\n",
       "      <th>2</th>\n",
       "      <td>exp27549.jpg</td>\n",
       "      <td>/Users/monalipatil/Monali/MDSI-Semester1/Deep Learning and Convolutional Neural Network/Assignment1/dataset_42028assg1_14370946/pm/exp27549.jpg</td>\n",
       "      <td>pm</td>\n",
       "      <td>pm</td>\n",
       "    </tr>\n",
       "    <tr>\n",
       "      <th>3</th>\n",
       "      <td>pm_1776.jpg</td>\n",
       "      <td>/Users/monalipatil/Monali/MDSI-Semester1/Deep Learning and Convolutional Neural Network/Assignment1/dataset_42028assg1_14370946/pm/pm_1776.jpg</td>\n",
       "      <td>pm</td>\n",
       "      <td>pm</td>\n",
       "    </tr>\n",
       "    <tr>\n",
       "      <th>4</th>\n",
       "      <td>exp40277.jpg</td>\n",
       "      <td>/Users/monalipatil/Monali/MDSI-Semester1/Deep Learning and Convolutional Neural Network/Assignment1/dataset_42028assg1_14370946/pm/exp40277.jpg</td>\n",
       "      <td>pm</td>\n",
       "      <td>pm</td>\n",
       "    </tr>\n",
       "    <tr>\n",
       "      <th>5</th>\n",
       "      <td>exp54570.jpg</td>\n",
       "      <td>/Users/monalipatil/Monali/MDSI-Semester1/Deep Learning and Convolutional Neural Network/Assignment1/dataset_42028assg1_14370946/pm/exp54570.jpg</td>\n",
       "      <td>pm</td>\n",
       "      <td>pm</td>\n",
       "    </tr>\n",
       "  </tbody>\n",
       "</table>\n",
       "</div>"
      ],
      "text/plain": [
       "     Image Name  \\\n",
       "1  exp29202.jpg   \n",
       "2  exp27549.jpg   \n",
       "3   pm_1776.jpg   \n",
       "4  exp40277.jpg   \n",
       "5  exp54570.jpg   \n",
       "\n",
       "                                                                                                                                         ImagePath  \\\n",
       "1  /Users/monalipatil/Monali/MDSI-Semester1/Deep Learning and Convolutional Neural Network/Assignment1/dataset_42028assg1_14370946/pm/exp29202.jpg   \n",
       "2  /Users/monalipatil/Monali/MDSI-Semester1/Deep Learning and Convolutional Neural Network/Assignment1/dataset_42028assg1_14370946/pm/exp27549.jpg   \n",
       "3   /Users/monalipatil/Monali/MDSI-Semester1/Deep Learning and Convolutional Neural Network/Assignment1/dataset_42028assg1_14370946/pm/pm_1776.jpg   \n",
       "4  /Users/monalipatil/Monali/MDSI-Semester1/Deep Learning and Convolutional Neural Network/Assignment1/dataset_42028assg1_14370946/pm/exp40277.jpg   \n",
       "5  /Users/monalipatil/Monali/MDSI-Semester1/Deep Learning and Convolutional Neural Network/Assignment1/dataset_42028assg1_14370946/pm/exp54570.jpg   \n",
       "\n",
       "  Image Symbol Name Label  \n",
       "1                pm    pm  \n",
       "2                pm    pm  \n",
       "3                pm    pm  \n",
       "4                pm    pm  \n",
       "5                pm    pm  "
      ]
     },
     "execution_count": 37,
     "metadata": {},
     "output_type": "execute_result"
    }
   ],
   "source": [
    "# Removing the first row from the dataframe\n",
    "df_math_symbol_dataset.drop(index=df_math_symbol_dataset.index[0], axis=0, inplace=True)\n",
    "\n",
    "# Displaying the few initial images\n",
    "df_math_symbol_dataset.head(5)"
   ]
  },
  {
   "cell_type": "markdown",
   "metadata": {},
   "source": [
    "#### 1.3 Loading the images"
   ]
  },
  {
   "cell_type": "code",
   "execution_count": 38,
   "metadata": {},
   "outputs": [
    {
     "data": {
      "text/html": [
       "<div>\n",
       "<style scoped>\n",
       "    .dataframe tbody tr th:only-of-type {\n",
       "        vertical-align: middle;\n",
       "    }\n",
       "\n",
       "    .dataframe tbody tr th {\n",
       "        vertical-align: top;\n",
       "    }\n",
       "\n",
       "    .dataframe thead th {\n",
       "        text-align: right;\n",
       "    }\n",
       "</style>\n",
       "<table border=\"1\" class=\"dataframe\">\n",
       "  <thead>\n",
       "    <tr style=\"text-align: right;\">\n",
       "      <th></th>\n",
       "      <th>Image Name</th>\n",
       "      <th>ImagePath</th>\n",
       "      <th>Image Symbol Name</th>\n",
       "      <th>Label</th>\n",
       "      <th>Image</th>\n",
       "    </tr>\n",
       "  </thead>\n",
       "  <tbody>\n",
       "    <tr>\n",
       "      <th>3796</th>\n",
       "      <td>exp70109.jpg</td>\n",
       "      <td>/Users/monalipatil/Monali/MDSI-Semester1/Deep Learning and Convolutional Neural Network/Assignment1/dataset_42028assg1_14370946/tan/exp70109.jpg</td>\n",
       "      <td>tan</td>\n",
       "      <td>tan</td>\n",
       "      <td>&lt;PIL.JpegImagePlugin.JpegImageFile image mode=L size=45x45 at 0x1418E0B20&gt;</td>\n",
       "    </tr>\n",
       "    <tr>\n",
       "      <th>3027</th>\n",
       "      <td>exp66662.jpg</td>\n",
       "      <td>/Users/monalipatil/Monali/MDSI-Semester1/Deep Learning and Convolutional Neural Network/Assignment1/dataset_42028assg1_14370946/alpha/exp66662.jpg</td>\n",
       "      <td>alpha</td>\n",
       "      <td>alpha</td>\n",
       "      <td>&lt;PIL.JpegImagePlugin.JpegImageFile image mode=L size=45x45 at 0x141612980&gt;</td>\n",
       "    </tr>\n",
       "    <tr>\n",
       "      <th>4377</th>\n",
       "      <td>exp69270.jpg</td>\n",
       "      <td>/Users/monalipatil/Monali/MDSI-Semester1/Deep Learning and Convolutional Neural Network/Assignment1/dataset_42028assg1_14370946/)/exp69270.jpg</td>\n",
       "      <td>)</td>\n",
       "      <td>closed_bracket</td>\n",
       "      <td>&lt;PIL.JpegImagePlugin.JpegImageFile image mode=L size=45x45 at 0x141A8E5C0&gt;</td>\n",
       "    </tr>\n",
       "    <tr>\n",
       "      <th>2086</th>\n",
       "      <td>exp74894.jpg</td>\n",
       "      <td>/Users/monalipatil/Monali/MDSI-Semester1/Deep Learning and Convolutional Neural Network/Assignment1/dataset_42028assg1_14370946/sum/exp74894.jpg</td>\n",
       "      <td>sum</td>\n",
       "      <td>sum</td>\n",
       "      <td>&lt;PIL.JpegImagePlugin.JpegImageFile image mode=L size=45x45 at 0x140D29930&gt;</td>\n",
       "    </tr>\n",
       "    <tr>\n",
       "      <th>3964</th>\n",
       "      <td>exp11022.jpg</td>\n",
       "      <td>/Users/monalipatil/Monali/MDSI-Semester1/Deep Learning and Convolutional Neural Network/Assignment1/dataset_42028assg1_14370946/tan/exp11022.jpg</td>\n",
       "      <td>tan</td>\n",
       "      <td>tan</td>\n",
       "      <td>&lt;PIL.JpegImagePlugin.JpegImageFile image mode=L size=45x45 at 0x14196CA60&gt;</td>\n",
       "    </tr>\n",
       "  </tbody>\n",
       "</table>\n",
       "</div>"
      ],
      "text/plain": [
       "        Image Name  \\\n",
       "3796  exp70109.jpg   \n",
       "3027  exp66662.jpg   \n",
       "4377  exp69270.jpg   \n",
       "2086  exp74894.jpg   \n",
       "3964  exp11022.jpg   \n",
       "\n",
       "                                                                                                                                               ImagePath  \\\n",
       "3796    /Users/monalipatil/Monali/MDSI-Semester1/Deep Learning and Convolutional Neural Network/Assignment1/dataset_42028assg1_14370946/tan/exp70109.jpg   \n",
       "3027  /Users/monalipatil/Monali/MDSI-Semester1/Deep Learning and Convolutional Neural Network/Assignment1/dataset_42028assg1_14370946/alpha/exp66662.jpg   \n",
       "4377      /Users/monalipatil/Monali/MDSI-Semester1/Deep Learning and Convolutional Neural Network/Assignment1/dataset_42028assg1_14370946/)/exp69270.jpg   \n",
       "2086    /Users/monalipatil/Monali/MDSI-Semester1/Deep Learning and Convolutional Neural Network/Assignment1/dataset_42028assg1_14370946/sum/exp74894.jpg   \n",
       "3964    /Users/monalipatil/Monali/MDSI-Semester1/Deep Learning and Convolutional Neural Network/Assignment1/dataset_42028assg1_14370946/tan/exp11022.jpg   \n",
       "\n",
       "     Image Symbol Name           Label  \\\n",
       "3796               tan             tan   \n",
       "3027             alpha           alpha   \n",
       "4377                 )  closed_bracket   \n",
       "2086               sum             sum   \n",
       "3964               tan             tan   \n",
       "\n",
       "                                                                           Image  \n",
       "3796  <PIL.JpegImagePlugin.JpegImageFile image mode=L size=45x45 at 0x1418E0B20>  \n",
       "3027  <PIL.JpegImagePlugin.JpegImageFile image mode=L size=45x45 at 0x141612980>  \n",
       "4377  <PIL.JpegImagePlugin.JpegImageFile image mode=L size=45x45 at 0x141A8E5C0>  \n",
       "2086  <PIL.JpegImagePlugin.JpegImageFile image mode=L size=45x45 at 0x140D29930>  \n",
       "3964  <PIL.JpegImagePlugin.JpegImageFile image mode=L size=45x45 at 0x14196CA60>  "
      ]
     },
     "execution_count": 38,
     "metadata": {},
     "output_type": "execute_result"
    }
   ],
   "source": [
    "# Creating a new column 'Image' in the DataFrame by mapping each image path to its corresponding image from its image path\n",
    "df_math_symbol_dataset['Image'] = df_math_symbol_dataset.ImagePath.map(lambda f: Image.open(f))\n",
    "\n",
    "# Displaying the few random images\n",
    "df_math_symbol_dataset.sample(5)"
   ]
  },
  {
   "cell_type": "markdown",
   "metadata": {},
   "source": [
    "### 2. Visualising and Exploring the Images"
   ]
  },
  {
   "cell_type": "code",
   "execution_count": 39,
   "metadata": {},
   "outputs": [],
   "source": [
    "# Initialising empty lists to store images and labels\n",
    "x_images = []\n",
    "y_labels = []\n",
    "\n",
    "# Iterating through each row in the images and lables dataframe\n",
    "for index, row in df_math_symbol_dataset.iterrows():\n",
    "\n",
    "    # Append the image to X_data\n",
    "    x_images.append(row['Image'])\n",
    "    \n",
    "    # Append the corresponding label to Y_data\n",
    "    y_labels.append(row['Label'])\n",
    "\n",
    "# Converting lists to numpy arrays\n",
    "x_images = np.array(x_images)\n",
    "y_labels = np.array(y_labels)"
   ]
  },
  {
   "cell_type": "markdown",
   "metadata": {},
   "source": [
    "#### 2.1 Examining the images dimension"
   ]
  },
  {
   "cell_type": "code",
   "execution_count": 40,
   "metadata": {},
   "outputs": [
    {
     "name": "stdout",
     "output_type": "stream",
     "text": [
      "(4999, 45, 45)\n",
      "(4999,)\n"
     ]
    }
   ],
   "source": [
    "# Checking the shape of the datafreams\n",
    "print(np.shape(x_images))\n",
    "print(np.shape(y_labels))"
   ]
  },
  {
   "cell_type": "markdown",
   "metadata": {},
   "source": [
    "The dataset consists of 4999 images of mathematical symbols, where each image has a shape of 45x45. The labels are provided for each image, indicating the class or category of the mathematical symbol depicted in the corresponding image.\n",
    "\n",
    "- x_images -> (4999, 45, 45): This dataframe indicates the 4999 images of math symbols and each has a resolution of 45x45. So, the dataset is essentially a collection of 4999 2D arrays, where each array represents a grey image of a math symbol.\n",
    "\n",
    "- y_labels -> (4999,): This dataframe indicates the labels associated with each image. There are 4999 labels, one for each image in the dataset. The labels are stored as a 1D array."
   ]
  },
  {
   "cell_type": "code",
   "execution_count": 41,
   "metadata": {},
   "outputs": [
    {
     "name": "stdout",
     "output_type": "stream",
     "text": [
      "i) Datatype of x_images: uint8\n",
      "ii) Datatype of y_labels: <U15\n",
      "iii) Type of x_images: <class 'numpy.ndarray'>\n",
      "iv) Type of y_labels: <class 'numpy.ndarray'>\n"
     ]
    }
   ],
   "source": [
    "# Checking the datatype if the dataframes\n",
    "print(\"i) Datatype of x_images:\", x_images.dtype)\n",
    "print(\"ii) Datatype of y_labels:\", y_labels.dtype)\n",
    "print(\"iii) Type of x_images:\", type(x_images))\n",
    "print(\"iv) Type of y_labels:\", type(y_labels))"
   ]
  },
  {
   "cell_type": "markdown",
   "metadata": {},
   "source": [
    "- Datatype of x_images: uint8 The data type of the elements in x_images is uint8, which stands for unsigned 8-bit integers representing the intensity value of a pixel in the image. This data type is commonly used to represent pixel values in images.\n",
    "\n",
    "- Datatype of y_labels: <U15 The data type of the elements in y_labels is <U15, which stands for Unicode string of maximum length 15 characters. Each element of y_labels is a string representing the label or category of the corresponding image in x_images.\n",
    "\n",
    "- Type of x_images and y_labels: <class 'numpy.ndarray'> These both are NumPy arrays."
   ]
  },
  {
   "cell_type": "markdown",
   "metadata": {},
   "source": [
    "#### 2.2 Inspecting individual images from the dataset along with their corresponding labels"
   ]
  },
  {
   "cell_type": "code",
   "execution_count": 42,
   "metadata": {},
   "outputs": [
    {
     "name": "stdout",
     "output_type": "stream",
     "text": [
      "The shape is:  (45, 45)\n",
      "The label is: pm\n"
     ]
    },
    {
     "data": {
      "image/png": "[encoded data removed]",
      "text/plain": [
       "<Figure size 640x480 with 1 Axes>"
      ]
     },
     "metadata": {},
     "output_type": "display_data"
    }
   ],
   "source": [
    "# Visualising  the shape of the few random individual images and checking along with their corresponding labels\n",
    "img_index = 9\n",
    "fig = plt.figure()\n",
    "ax = fig.add_subplot(2,2,1)\n",
    "ax.axis('off')\n",
    "ax.imshow(x_images[img_index], cmap='gray')\n",
    "#print(labelNames[y_train[img_index]])\n",
    "print('The shape is: ',np.shape(x_images[img_index]))\n",
    "print('The label is:', y_labels[img_index])\n"
   ]
  },
  {
   "cell_type": "markdown",
   "metadata": {},
   "source": [
    "- The shape of the above illustrated image (at index 9) is (45, 45) exhibiting the selected image has a resolution of 45x45 dimension, the height and width of the image, respectively. Therefore, the image is a square with 45 pixels along each side.\n",
    "\n",
    "- The corresponding label for the selected image is 'pm' i.e. plus-minus mathematical symbol."
   ]
  },
  {
   "cell_type": "code",
   "execution_count": 43,
   "metadata": {},
   "outputs": [
    {
     "name": "stdout",
     "output_type": "stream",
     "text": [
      "The shape is:  (45, 45)\n",
      "The label is: squared_bracket\n"
     ]
    },
    {
     "data": {
      "image/png": "[encoded data removed]",
      "text/plain": [
       "<Figure size 640x480 with 1 Axes>"
      ]
     },
     "metadata": {},
     "output_type": "display_data"
    }
   ],
   "source": [
    "# Visualising  the shape of the few random individual images and checking along with their corresponding labels\n",
    "img_index = 4991\n",
    "fig = plt.figure()\n",
    "ax = fig.add_subplot(2,2,1)\n",
    "ax.axis('off')\n",
    "ax.imshow(x_images[img_index], cmap='gray')\n",
    "#print(labelNames[y_train[img_index]])\n",
    "print('The shape is: ',np.shape(x_images[img_index]))\n",
    "print('The label is:', y_labels[img_index])"
   ]
  },
  {
   "cell_type": "markdown",
   "metadata": {},
   "source": [
    "- The above output demonstrates that the selected image (at index 4991) is a square image with dimension 45x45 and represents a squared bracket symbol, as indicated by its corresponding label."
   ]
  },
  {
   "cell_type": "code",
   "execution_count": 44,
   "metadata": {},
   "outputs": [
    {
     "name": "stdout",
     "output_type": "stream",
     "text": [
      "The shape is:  (45, 45)\n",
      "The label is: theta\n"
     ]
    },
    {
     "data": {
      "image/png": "[encoded data removed]",
      "text/plain": [
       "<Figure size 640x480 with 1 Axes>"
      ]
     },
     "metadata": {},
     "output_type": "display_data"
    }
   ],
   "source": [
    "# Visualising  the shape of the few random individual images and checking along with their corresponding labels\n",
    "img_index = 2900\n",
    "fig = plt.figure()\n",
    "ax = fig.add_subplot(2,2,1)\n",
    "ax.axis('off')\n",
    "ax.imshow(x_images[img_index], cmap='gray')\n",
    "#print(labelNames[y_train[img_index]])\n",
    "print('The shape is: ',np.shape(x_images[img_index]))\n",
    "print('The label is:', y_labels[img_index])"
   ]
  },
  {
   "cell_type": "markdown",
   "metadata": {},
   "source": [
    "- The image shown above, (from index 2900), is also a square image measuring 45x45 dimension. It describes the mathematical symbol 'theta', as confirmed by its associated label."
   ]
  },
  {
   "cell_type": "code",
   "execution_count": 45,
   "metadata": {},
   "outputs": [
    {
     "name": "stdout",
     "output_type": "stream",
     "text": [
      "The shape is:  (45, 45)\n",
      "The label is: leq\n"
     ]
    },
    {
     "data": {
      "image/png": "[encoded data removed]",
      "text/plain": [
       "<Figure size 640x480 with 1 Axes>"
      ]
     },
     "metadata": {},
     "output_type": "display_data"
    }
   ],
   "source": [
    "# Visualising  the shape of the few random individual images and checking along with their corresponding labels\n",
    "img_index = 500\n",
    "fig = plt.figure()\n",
    "ax = fig.add_subplot(2,2,1)\n",
    "ax.axis('off')\n",
    "ax.imshow(x_images[img_index], cmap='gray')\n",
    "#print(labelNames[y_train[img_index]])\n",
    "print('The shape is: ',np.shape(x_images[img_index]))\n",
    "print('The label is:', y_labels[img_index])"
   ]
  },
  {
   "cell_type": "markdown",
   "metadata": {},
   "source": [
    "- The above displayed image, (from index 500), is likewise a square image with dimensions of 45x45. It depicts the mathematical symbol 'less than or equal to', as indicated by its corresponding label."
   ]
  },
  {
   "cell_type": "code",
   "execution_count": 46,
   "metadata": {},
   "outputs": [
    {
     "name": "stdout",
     "output_type": "stream",
     "text": [
      "The shape is:  (45, 45)\n",
      "The label is: sqrt\n"
     ]
    },
    {
     "data": {
      "image/png": "[encoded data removed]",
      "text/plain": [
       "<Figure size 640x480 with 1 Axes>"
      ]
     },
     "metadata": {},
     "output_type": "display_data"
    }
   ],
   "source": [
    "# Visualising  the shape of the few random individual images and checking along with their corresponding labels\n",
    "img_index = 1900\n",
    "fig = plt.figure()\n",
    "ax = fig.add_subplot(2,2,1)\n",
    "ax.axis('off')\n",
    "ax.imshow(x_images[img_index], cmap='gray')\n",
    "#print(labelNames[y_train[img_index]])\n",
    "print('The shape is: ',np.shape(x_images[img_index]))\n",
    "print('The label is:', y_labels[img_index])"
   ]
  },
  {
   "cell_type": "markdown",
   "metadata": {},
   "source": [
    "- The image shown above, (from index 500), is also a square-shaped image measuring 45x45 dimension representing the mathematical symbol 'square root', as confirmed by its associated label."
   ]
  },
  {
   "cell_type": "markdown",
   "metadata": {},
   "source": [
    "#### 2.3 Examining the total number of occurrences of each distinct math symbol images"
   ]
  },
  {
   "cell_type": "code",
   "execution_count": 50,
   "metadata": {},
   "outputs": [
    {
     "name": "stdout",
     "output_type": "stream",
     "text": [
      "The total numbe of each Distinct Images:\n",
      "leq: 500\n",
      "minus: 500\n",
      "sqrt: 500\n",
      "sum: 500\n",
      "theta: 500\n",
      "alpha: 500\n",
      "tan: 500\n",
      "closed_bracket: 500\n",
      "squared_bracket: 500\n",
      "pm: 499\n"
     ]
    }
   ],
   "source": [
    "# Checking the total number of occurrences of each distinct math symbol images\n",
    "label_counts = df_math_symbol_dataset['Label'].value_counts()\n",
    "\n",
    "# Displaying the total count of each distinct math symbol images\n",
    "print(\"The total number of each Distinct Images:\")\n",
    "for label, count in label_counts.items():\n",
    "    print(f\"{label}: {count}\")"
   ]
  },
  {
   "cell_type": "code",
   "execution_count": 53,
   "metadata": {},
   "outputs": [
    {
     "data": {
      "image/png": "[encoded data removed]",
      "text/plain": [
       "<Figure size 1000x600 with 1 Axes>"
      ]
     },
     "metadata": {},
     "output_type": "display_data"
    }
   ],
   "source": [
    "# Visualising the total counts of images in a bar graph\n",
    "plt.figure(figsize=(10, 6))\n",
    "label_counts.plot(kind='bar', color='skyblue')\n",
    "plt.title('Total number of each Distinct Math symbol Images')\n",
    "plt.xlabel('Image Label')\n",
    "plt.ylabel('Total Count')\n",
    "plt.xticks(rotation=45)  \n",
    "plt.show()"
   ]
  },
  {
   "cell_type": "markdown",
   "metadata": {},
   "source": [
    "- The above output reveals that there are 500 images of each math symbol, with the exception of the 'pm' (plus minus) symbol, which has 499 occurrences.\n",
    "\n",
    "- The bar graph provides a visual representation of the distribution of math symbol images, highlighting no imbalances in the dataset. The x-axis represents the image labels, and the y-axis represents the total count of occurrences for each label.\n"
   ]
  },
  {
   "cell_type": "markdown",
   "metadata": {},
   "source": [
    "### 3. Preprocessing the Images "
   ]
  },
  {
   "cell_type": "markdown",
   "metadata": {},
   "source": [
    "#### 3.1 Converting categorical labels into numerical values"
   ]
  },
  {
   "cell_type": "code",
   "execution_count": null,
   "metadata": {},
   "outputs": [],
   "source": [
    "# Creating the list with unique label names representing the math symbols\n",
    "labelNames = [\"pm\", \"leq\", \"minus\", \"sqrt\", \"sum\", \"theta\", \"alpha\", \"tan\", \"closed_bracket\", \"squared_bracket\"]"
   ]
  },
  {
   "cell_type": "markdown",
   "metadata": {},
   "source": [
    "- The above list labelNames contains unique label names representing different mathematical symbols. These labels are strings such as \"pm\", \"leq\", \"minus\", etc. "
   ]
  },
  {
   "cell_type": "code",
   "execution_count": null,
   "metadata": {},
   "outputs": [],
   "source": [
    "# Creating a dictionary to map label names to indices (from 0 to 0)\n",
    "label_to_numbers = {label: index for index, label in enumerate(labelNames)}"
   ]
  },
  {
   "cell_type": "markdown",
   "metadata": {},
   "source": [
    "- Utilizing enumerate() function to iterate over the labelNames list to mapp each label name to its corresponding index (from 0 to 9) as illustrated below. "
   ]
  },
  {
   "cell_type": "code",
   "execution_count": null,
   "metadata": {},
   "outputs": [
    {
     "data": {
      "text/plain": [
       "{'pm': 0,\n",
       " 'leq': 1,\n",
       " 'minus': 2,\n",
       " 'sqrt': 3,\n",
       " 'sum': 4,\n",
       " 'theta': 5,\n",
       " 'alpha': 6,\n",
       " 'tan': 7,\n",
       " 'closed_bracket': 8,\n",
       " 'squared_bracket': 9}"
      ]
     },
     "execution_count": 282,
     "metadata": {},
     "output_type": "execute_result"
    }
   ],
   "source": [
    "# Checking the mapped labels\n",
    "label_to_numbers"
   ]
  },
  {
   "cell_type": "markdown",
   "metadata": {},
   "source": [
    "#### Performing label encoding"
   ]
  },
  {
   "cell_type": "code",
   "execution_count": null,
   "metadata": {},
   "outputs": [],
   "source": [
    "# Replacing labels in Y_data with their corresponding numbers\n",
    "Y_labels_mapped = np.array([label_to_numbers[label] for label in y_labels])"
   ]
  },
  {
   "cell_type": "markdown",
   "metadata": {},
   "source": [
    "- As categorical data cannot be directly used in classification algorithms because these algorithms are based and operate on mathematical equations that require numerical inputs. \n",
    "\n",
    "- Therefore, it is necessary to convert the categorical data of these lable features into numerical data. To achieve this, employing label encoding method, which creates unique integer for every distinct category in the label feature. \n",
    "\n",
    "- Thus, a new dataframe Y_labels_mapped consisting of each label represented by its numerical index instead of the original string label of the math symbols."
   ]
  },
  {
   "cell_type": "markdown",
   "metadata": {},
   "source": [
    "#### 3.2 Normalising the images"
   ]
  },
  {
   "cell_type": "code",
   "execution_count": null,
   "metadata": {},
   "outputs": [],
   "source": [
    "# Normalising the images\n",
    "x_images_normalized = x_images / 255.0  "
   ]
  },
  {
   "cell_type": "markdown",
   "metadata": {},
   "source": [
    "- Performing normalisation with dividing by 255 scales to the range [0, 1] to ensure that all input features dimension values are within this range and with similar scales, making them more suitable for processing of neural networks which can improve the convergence of the optimization algorithm during training."
   ]
  },
  {
   "cell_type": "markdown",
   "metadata": {},
   "source": [
    "#### 3.3 Splitting the dataset into training - 70% and testing - 30%"
   ]
  },
  {
   "cell_type": "code",
   "execution_count": null,
   "metadata": {},
   "outputs": [],
   "source": [
    "# Splitting the dataset into training and testing sets (with 70% train and 30% test)\n",
    "X_train, X_test, Y_train, Y_test = train_test_split(x_images_normalized, Y_labels_mapped, test_size=0.3, random_state=19)"
   ]
  },
  {
   "cell_type": "code",
   "execution_count": null,
   "metadata": {},
   "outputs": [
    {
     "name": "stdout",
     "output_type": "stream",
     "text": [
      "After splitting below are the datasets shape:\n",
      "X_train shape: (3499, 45, 45)\n",
      "Y_train shape: (3499,)\n",
      "X_test shape: (1500, 45, 45)\n",
      "Y_test shape: (1500,)\n"
     ]
    }
   ],
   "source": [
    "# Checking the shapes of training and testing datasets\n",
    "print('After splitting below are the datasets shape:')\n",
    "print(\"X_train shape:\", X_train.shape)\n",
    "print(\"Y_train shape:\", Y_train.shape)\n",
    "print(\"X_test shape:\", X_test.shape)\n",
    "print(\"Y_test shape:\", Y_test.shape)"
   ]
  },
  {
   "cell_type": "markdown",
   "metadata": {},
   "source": [
    "- This splitting strategy ensures that (3499 samples out of 4999) 70% of the data is used for training the model (X_train and Y_train), while the remaining (1500 smaples out of 4999) 30% is reserved for evaluating the model's performance (X_test and Y_test). \n",
    "\n",
    "- Thus, it helps to assess how well the model generalizes to unseen data."
   ]
  },
  {
   "cell_type": "markdown",
   "metadata": {},
   "source": [
    "#### 3.4 Saving the different datasets"
   ]
  },
  {
   "cell_type": "code",
   "execution_count": null,
   "metadata": {},
   "outputs": [],
   "source": [
    "# Saving the training and testing datasets\n",
    "np.savez('math_symbol_split_datasets.npz', X_train=X_train, X_test=X_test, Y_train=Y_train, Y_test=Y_test)"
   ]
  },
  {
   "cell_type": "markdown",
   "metadata": {},
   "source": [
    "- Saving the training and testing datasets into a NumPy binary file with the name \"math_symbol_split_datasets.npz utilizing np.savez() function. \n",
    "\n",
    "- To use these processed datasets further for features extraction and modeling tasks np.load() function will be used to load them back.  "
   ]
  }
 ],
 "metadata": {
  "kernelspec": {
   "display_name": "Python 3",
   "language": "python",
   "name": "python3"
  },
  "language_info": {
   "codemirror_mode": {
    "name": "ipython",
    "version": 3
   },
   "file_extension": ".py",
   "mimetype": "text/x-python",
   "name": "python",
   "nbconvert_exporter": "python",
   "pygments_lexer": "ipython3",
   "version": "3.10.13"
  }
 },
 "nbformat": 4,
 "nbformat_minor": 2
}
